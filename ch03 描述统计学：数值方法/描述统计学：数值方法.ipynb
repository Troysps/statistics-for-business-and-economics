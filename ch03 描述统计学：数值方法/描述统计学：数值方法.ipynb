{
 "cells": [
  {
   "cell_type": "markdown",
   "metadata": {},
   "source": [
    "# 描述统计学 数值方法"
   ]
  },
  {
   "cell_type": "markdown",
   "metadata": {},
   "source": [
    "## 数值度量：位置 离散程度 形态 相关程度"
   ]
  },
  {
   "cell_type": "markdown",
   "metadata": {},
   "source": [
    "## 位置"
   ]
  },
  {
   "cell_type": "markdown",
   "metadata": {},
   "source": [
    "### 平均数 ： $\\bar x = \\frac{\\sum x_i}{n}$"
   ]
  },
  {
   "cell_type": "markdown",
   "metadata": {},
   "source": [
    "### 加权平均数： $ \\bar x = \\frac{\\sum w_ix_i}{\\sum w_i}$"
   ]
  },
  {
   "cell_type": "markdown",
   "metadata": {},
   "source": [
    "### 中位数：将数据从小到大排序\n",
    "#### 对奇数个观测数 中位数是中间的数值\n",
    "#### 对偶数个观测数 中位数是中间两个数值的平均数"
   ]
  },
  {
   "cell_type": "markdown",
   "metadata": {},
   "source": [
    "### 几何平均数： $\\bar x_g = (x_1x_2...x_n)^{1/n}$\n",
    "#### 在财务、投资和银行业的问题中， 几何平均数的应用尤为常见。当你想确定过去几个连续时期的平均变化率时 都能应用几何平均数。几何平均数可以用于发生在所有时间长度的连续时期的任何数量的变化率"
   ]
  },
  {
   "cell_type": "markdown",
   "metadata": {},
   "source": [
    "### 众数： 出现次数最多的数据"
   ]
  },
  {
   "cell_type": "markdown",
   "metadata": {},
   "source": [
    "### 百分位数： 提供数据如何散布在从最小值到最大值上的区间上的信息\n",
    "### $ i = (\\frac{p}{100})n $ \n",
    "#### 若i不是整数 则向上取整数 大于i的下一个整数表示第p百分位数的位置\n",
    "#### 若i是整数 则第p百分位数是第i项和第（i+1)项数据的平均值"
   ]
  },
  {
   "cell_type": "markdown",
   "metadata": {},
   "source": [
    "### 四分位数： \n",
    "#### $Q_1$ = 第一四分位数 或第25百分位数\n",
    "#### $Q_2$ = 第50百分位数 \n",
    "#### $Q_3$ = 第75百分位数"
   ]
  },
  {
   "cell_type": "markdown",
   "metadata": {},
   "source": [
    "### 注释：\n",
    "#### 1. 当数据集中含有极端值时 使用中位数作为中心位置的度量比平均数更合适\n",
    "#### 2. 其他常用百分位数是五分位数和十分位数"
   ]
  },
  {
   "cell_type": "markdown",
   "metadata": {},
   "source": [
    "## 变异程度的度量（离散程度的度量）"
   ]
  },
  {
   "cell_type": "markdown",
   "metadata": {},
   "source": [
    "### 极差： 极差 = 最大值 - 最小值"
   ]
  },
  {
   "cell_type": "markdown",
   "metadata": {},
   "source": [
    "### 四分位数间距： $ IQR = Q_3 - Q_1 $"
   ]
  },
  {
   "cell_type": "markdown",
   "metadata": {},
   "source": [
    "### 方差：所有数据对变异程度所做的一种度量\n",
    "#### 总体方差： $ \\sigma^2 = \\frac {\\sum(x_i - \\mu)^2}{N} $\n",
    "#### 样本方差： $ s^2 = \\frac {\\sum(x_i - \\bar x)^2}{n-1} $"
   ]
  },
  {
   "cell_type": "markdown",
   "metadata": {},
   "source": [
    "### 标准差：是方差的正平方根 标准差与数据的单位相同\n",
    "### $ s = \\sqrt s^2 $\n",
    "### $ \\sigma = \\sqrt \\sigma^2 $"
   ]
  },
  {
   "cell_type": "markdown",
   "metadata": {},
   "source": [
    "### 标准差系数： $ (\\frac{标准差}{平均数} \\times 100)% $\n",
    "#### 说明 样本标准差仅为样本平均数的？%"
   ]
  },
  {
   "cell_type": "markdown",
   "metadata": {},
   "source": [
    "## 分布形态、相对位置的度量以及异常值的检测"
   ]
  },
  {
   "cell_type": "markdown",
   "metadata": {},
   "source": [
    "### 分布形态：左偏- 右偏+ 对称0\n",
    "#### 偏度计算： 偏度 = $ \\frac {n}{(n-1)(n-2)} \\sum (\\frac {x_i - \\bar x}{s})^3 $"
   ]
  },
  {
   "cell_type": "markdown",
   "metadata": {},
   "source": [
    "### z-分数 数据集中的数值的相对位置\n",
    "#### $ z_i = \\frac {x_i -\\bar x}{s} $   标准化数值\n",
    "#### $\\bar x$为样本平均数 $s$为样本标准差"
   ]
  },
  {
   "cell_type": "markdown",
   "metadata": {},
   "source": [
    "### 切比雪夫定理：\n",
    "### 与平均数的距离在z个标准差之内的数据项所占比例至少为$ ( 1 - 1/z^2) $\n",
    "#### 其中z是大于1的任意实数"
   ]
  },
  {
   "cell_type": "markdown",
   "metadata": {},
   "source": [
    "### 经验法则： 对于具有钟形分布的数据\n",
    "#### 大约68%的数据值与平均数的距离在1个标准差之内\n",
    "#### 大约95%的数据值与平均数的距离在2个标准差之内\n",
    "#### 几乎所有的数据与平均数的距离在3个标准差之内"
   ]
  },
  {
   "cell_type": "markdown",
   "metadata": {},
   "source": [
    "### 异常值的检测\n",
    "#### 方法一：标准化数值来确定异常值\n",
    "#### 方法二：以第一四分位数和第三四分位数以及四分位数间距 计算上限 下限"
   ]
  },
  {
   "cell_type": "markdown",
   "metadata": {},
   "source": [
    "## 五数概括法"
   ]
  },
  {
   "cell_type": "markdown",
   "metadata": {},
   "source": [
    "### 最小值 第一四分位数 中位数 第三四分位数 最大值"
   ]
  },
  {
   "cell_type": "markdown",
   "metadata": {},
   "source": [
    "## 两变量间关系的度量：两变量间线性关系度量的协方差和相关系数"
   ]
  },
  {
   "cell_type": "markdown",
   "metadata": {},
   "source": [
    "### 协方差\n",
    "#### 样本协方差 $ s_{xy} = \\frac {\\sum(x_i - \\bar x)(y_i - \\bar x)}{n-1} $\n",
    "#### 协方差解释：$ s_{xy} $为正值表示x和y之间存在正的线性关系：随着x的值的增加，y的值也增加 如果 $ s_{xy} $为负值 则表示x和y为负的线性相关关系：随着x的值的增加 y的值减少\n",
    "#### 局限性：协方差值受数值单位影响 假设研究人体重与身高关系 身高用厘米测出数值比英寸大得多 避免这种情况 使用相关系数"
   ]
  },
  {
   "cell_type": "markdown",
   "metadata": {},
   "source": [
    "### 相关系数"
   ]
  },
  {
   "cell_type": "markdown",
   "metadata": {},
   "source": [
    "### 皮尔逊积矩相关系数：样本数据 \n",
    "$ r_{xy} = \\frac {s_{xy}} {s_xs_y}$\n",
    "#### $r_{xy}$表示样本相关系数 $ s_{xy} $表示样本协方差 $ s_y s_x $分别表示x的样本标准差 y的样本标准差"
   ]
  },
  {
   "cell_type": "markdown",
   "metadata": {},
   "source": [
    "### 总体数据\n",
    "$ \\rho_{xy} = \\frac {\\sigma_{xy}} {\\sigma_x\\sigma_y}$\n",
    "#### $\\rho_{xy}$表示总体相关系数 $ \\sigma_{xy} $表示总体协方差 $ \\sigma_y \\sigma_x $分别表示x的总体标准差 y的总体标准差\n"
   ]
  },
  {
   "cell_type": "markdown",
   "metadata": {},
   "source": [
    "### 样本相关系数的解释\n",
    "#### 样本相关系数是总体相关系数的点估计量\n",
    "#### [-1, 1] 且与0之间的距离越来越靠近时 表明线性关系越来越弱 接近于-1 1时 表示强的现行关系"
   ]
  },
  {
   "cell_type": "code",
   "execution_count": null,
   "metadata": {
    "collapsed": true
   },
   "outputs": [],
   "source": []
  }
 ],
 "metadata": {
  "kernelspec": {
   "display_name": "Python 3",
   "language": "python",
   "name": "python3"
  },
  "language_info": {
   "codemirror_mode": {
    "name": "ipython",
    "version": 3
   },
   "file_extension": ".py",
   "mimetype": "text/x-python",
   "name": "python",
   "nbconvert_exporter": "python",
   "pygments_lexer": "ipython3",
   "version": "3.6.1"
  }
 },
 "nbformat": 4,
 "nbformat_minor": 2
}
