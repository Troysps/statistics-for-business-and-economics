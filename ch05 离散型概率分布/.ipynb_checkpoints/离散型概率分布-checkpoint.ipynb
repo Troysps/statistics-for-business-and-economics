{
 "cells": [
  {
   "cell_type": "markdown",
   "metadata": {},
   "source": [
    "# 离散型概率分布\n",
    "### 随机变量和概率分布是关于总体数据的模型 随机变量的值表示的是数据值 概率分布给出的是去数据值时所对应的概率或者一种用于计算数据各种取值的概率准则\n",
    "### 离散型概率分布的两类表达形式 \n",
    "### 第一种是表格形式 其中一列是随机变量的值 第二列是随机变量取这些值时相应的概率 可用于分布分配概率   \n",
    "### 第二种表达形式是数学函数 计算随机变量取每种值的概率-----二项分布 泊松分布 超几何分布"
   ]
  },
  {
   "cell_type": "markdown",
   "metadata": {},
   "source": [
    "## 5.1 随机变量"
   ]
  },
  {
   "cell_type": "markdown",
   "metadata": {},
   "source": [
    "### 随机变量：是对一个试验结果的数值描述 随机变量将每一个可能出现的试验结果赋予一个数值 随机变量根据取值可分为离散型或连续型"
   ]
  },
  {
   "cell_type": "markdown",
   "metadata": {},
   "source": [
    "### 5.1.1 离散型随机变量\n",
    "### 可以取有限多个或无限可数多个值的随机变量称为离散型随机变量"
   ]
  },
  {
   "cell_type": "markdown",
   "metadata": {},
   "source": [
    "### 5.1.2 连续型随机变量\n",
    "### 可以取某一区间或多个区间内任意值的随机变量称为连续型随机变量"
   ]
  },
  {
   "cell_type": "markdown",
   "metadata": {},
   "source": [
    "## 5.2 离散型概率分布"
   ]
  },
  {
   "cell_type": "markdown",
   "metadata": {},
   "source": [
    "### 对于离散型随机变量$x$，概率函数给出随机变量取每种值得概率 记作$f(x)$\n",
    "### 建立离散型概率分布时 可以采用分配概率的方法 古典法 主观法 相对频率法"
   ]
  },
  {
   "cell_type": "markdown",
   "metadata": {},
   "source": [
    "### 离散型概率函数的基本条件：$f(x) \\ge 0$   $\\sum f(x) =1 $"
   ]
  },
  {
   "cell_type": "markdown",
   "metadata": {},
   "source": [
    "### 离散型均匀概率函数： $ f(x) = \\frac {1}{n} $ n代表随机变量可能取值的个数"
   ]
  },
  {
   "cell_type": "markdown",
   "metadata": {},
   "source": [
    "## 5.3 数学期望"
   ]
  },
  {
   "cell_type": "markdown",
   "metadata": {},
   "source": [
    "### 5.3.1 数学期望"
   ]
  },
  {
   "cell_type": "markdown",
   "metadata": {},
   "source": [
    "### 随机变量的数学期望或均值是对随机变量中心位置的一种度量"
   ]
  },
  {
   "cell_type": "markdown",
   "metadata": {},
   "source": [
    "### 离散型随机变量的数学期望： $ E(x) = u = \\sum xf(x) $\n",
    "### 数学期望是随机变量取值的加权平均 其中权数是概率"
   ]
  },
  {
   "cell_type": "markdown",
   "metadata": {},
   "source": [
    "### 5.3.2 方差"
   ]
  },
  {
   "cell_type": "markdown",
   "metadata": {},
   "source": [
    "### 数学期望是对于随机变量中心位置的度量 \n",
    "### 方差是对于随机变量的变异性或分散程度的描述"
   ]
  },
  {
   "cell_type": "markdown",
   "metadata": {},
   "source": [
    "### 离散型随机变量的方差： $ Var(x) = \\sigma^2 = \\sum (x-u)^2f(x) $"
   ]
  },
  {
   "cell_type": "markdown",
   "metadata": {},
   "source": [
    "### 标准差：$ \\sigma = \\sqrt {Var(x)} $"
   ]
  },
  {
   "cell_type": "markdown",
   "metadata": {},
   "source": [
    "#### 随机变量的数学期望不一定是随机变量的某个值\n",
    "### 方差是随机变量离差平方的加权算术平均，其中权数是概率"
   ]
  },
  {
   "cell_type": "markdown",
   "metadata": {},
   "source": [
    "## 5.4 二元分布 协方差和金融资产组合"
   ]
  },
  {
   "cell_type": "markdown",
   "metadata": {},
   "source": [
    "### 二元分布：两个随机变量的概率分布称为随机变量\n",
    "#### 考虑二元分布概率分布的时候，构建一个二元试验是非常有用的 \n",
    "#### 在一个二元试验中， 每种试验结果由两个值构成 其中每个值与一个随机变量相对应\n",
    "#### 比如 在一个抛掷一对色子的二元试验中，试验结果由两个值构成 其中一个是第一枚骰子的点数 另一个是第二枚骰子的点数  再比如观察金融市场上 一只股票基金和一只债券基金"
   ]
  },
  {
   "cell_type": "markdown",
   "metadata": {},
   "source": [
    "### 5.4.1 二元经验离散型概率分布"
   ]
  },
  {
   "cell_type": "markdown",
   "metadata": {},
   "source": [
    "### 随机变量$x$和$y$的协方差： $ \\sigma_{xy} = \\frac {[Var(x+y) - Var(x) - Var(y)]} {2} $"
   ]
  },
  {
   "cell_type": "markdown",
   "metadata": {
    "collapsed": true
   },
   "source": [
    "### 随机变量$x$和$y$的相关系数：$ \\rho_{xy} = \\frac {\\sigma_{xy}}{\\sigma_x\\sigma_y}$"
   ]
  },
  {
   "cell_type": "markdown",
   "metadata": {},
   "source": [
    "### 5.4.2 金融上的应用"
   ]
  },
  {
   "cell_type": "markdown",
   "metadata": {},
   "source": [
    "### 随机变量$x$和$y$的线性组合的数学期望： $ E(ax + by) = aE(x) + bE(y) $"
   ]
  },
  {
   "cell_type": "markdown",
   "metadata": {},
   "source": [
    "### 两个随机随机变量的线性组合的方差：$ Var(ax+by) = a^2Var(x) + b^2Var(y) + 2ab\\sigma_{xy}$"
   ]
  },
  {
   "cell_type": "markdown",
   "metadata": {},
   "source": [
    "#### 收益与风险中寻求平衡 投资于资产组合优于单独投资于债券基金"
   ]
  },
  {
   "cell_type": "markdown",
   "metadata": {},
   "source": [
    "### 5.4.3 小结"
   ]
  },
  {
   "cell_type": "markdown",
   "metadata": {},
   "source": [
    "#### 二元离散概率分布   协方差和相关系数这两种度量方法\n",
    "#### 如何计算随机变量的线性组合的数学期望和方差\n",
    "#### 金融资产组合是随机变量的线性组合  这是一种我们称为加权平均的特殊的线性组合\n",
    "#### 各个随机变量之间的协方差为负 减小了资产组合的方差 大部分降低资产组合风险的理论正是基于此而提出分散投资的"
   ]
  },
  {
   "cell_type": "markdown",
   "metadata": {},
   "source": [
    "## 二项概率分布"
   ]
  },
  {
   "cell_type": "markdown",
   "metadata": {},
   "source": [
    "### 5.5.1 二项试验"
   ]
  },
  {
   "cell_type": "markdown",
   "metadata": {},
   "source": [
    "### 二项试验具有以下四个性质：\n",
    "#### 1. 试验由一系列相同的$n$个试验组成\n",
    "#### 2. 每次试验有两种可能的结果 我们把其中一个称为成功 另一个称为失败\n",
    "#### 3. 每次试验成功的概率都是相同的 用$p$来表示 失败的概率也是相同的 有$1-p$来表示\n",
    "#### 4. 试验是相互独立的"
   ]
  },
  {
   "cell_type": "markdown",
   "metadata": {},
   "source": [
    "### 5.5.2 二项概率分布的简单应用"
   ]
  },
  {
   "cell_type": "markdown",
   "metadata": {},
   "source": [
    "### $n$次试验中恰有$x$次成功的试验结果的个数： $ \\lgroup {^n _x} \\rgroup= \\frac {n!}{x!(n-x)!} $"
   ]
  },
  {
   "cell_type": "markdown",
   "metadata": {},
   "source": [
    "### 二项概率函数：\n",
    "### $ f(x) = \\lgroup {^n _x} \\rgroup p^x(1-p)^{(n-x)} $\n",
    "### $x$为成功的次数 $p$为一次试验中成功的概率 $n$为试验的次数 $f(x)$为$n$次试验中有$x$次成功的概率  \n",
    "$ \\lgroup {^n _x} \\rgroup= \\frac {n!}{x!(n-x)!} $"
   ]
  },
  {
   "cell_type": "markdown",
   "metadata": {},
   "source": [
    "### 5.5.3 二项概率表的使用"
   ]
  },
  {
   "cell_type": "markdown",
   "metadata": {},
   "source": [
    "### 5.5.4 二项分布的数学期望和方差"
   ]
  },
  {
   "cell_type": "markdown",
   "metadata": {},
   "source": [
    "### 数学期望：$ E(x) = u = np $\n",
    "### 方差 ：  $ Var(x) = \\sigma ^2 = np(1-p) $"
   ]
  },
  {
   "cell_type": "markdown",
   "metadata": {},
   "source": [
    "## 5.6 泊松概率分布"
   ]
  },
  {
   "cell_type": "markdown",
   "metadata": {},
   "source": [
    "### 主要用于：估计在特定时间段或空间中某事件发生的次数\n",
    "### 泊松试验的性质：\n",
    "#### 1.  在任意两个相等长度的区间上 事件发生的概率相等\n",
    "#### 2.  事件在某一区间上是否发生与事件在其他区间上是否发生是独立的"
   ]
  },
  {
   "cell_type": "markdown",
   "metadata": {},
   "source": [
    "### 泊松分布概率函数：\n",
    "#### $ f(x) = \\frac {\\mu^x e^{-\\mu}}{x!} $"
   ]
  },
  {
   "cell_type": "markdown",
   "metadata": {},
   "source": [
    "#### $f(x)$为事件在一个区间发生$x$次的概率 $\\mu$为事件在一个区间发生次数的数学期望或均值 $e=2.71828$ "
   ]
  },
  {
   "cell_type": "markdown",
   "metadata": {},
   "source": [
    "#### 泊松分布概率表"
   ]
  },
  {
   "cell_type": "markdown",
   "metadata": {},
   "source": [
    "## 5.7 超几何概率分布"
   ]
  },
  {
   "cell_type": "markdown",
   "metadata": {},
   "source": [
    "### 超几何概率分布与二项概率分布练习密切\n",
    "### 不同之处在于：超几何概率分布中的各项试验不是独立的 各次试验中成功的概率不等"
   ]
  },
  {
   "cell_type": "markdown",
   "metadata": {},
   "source": [
    " ### 超几何概率函数\n",
    " ### $ f(x) = \\frac{\\lgroup^r_x\\rgroup \\lgroup^{N-r}_{n-x}\\rgroup}{\\lgroup ^N _n \\rgroup} $\n",
    " #### $x$为成功的次数 $n$为试验的次数 $f(x)$为$n$次试验中$x$次成功的概率，$N$为总体中元素个数 $r$为总体中具有成功标志的元素的个数"
   ]
  },
  {
   "cell_type": "markdown",
   "metadata": {},
   "source": [
    "### 超几何分布的均值和方差"
   ]
  },
  {
   "cell_type": "markdown",
   "metadata": {},
   "source": [
    "### 均值：$ E(x) = \\mu = n \\lgroup \\frac {r}{N} \\rgroup $\n",
    "### 方差： $Var(x) = \\sigma^2 = n\\lgroup \\frac{r}{N}\\rgroup(1-\\frac {r}{N})(\\frac {N-n}{N-1}) $"
   ]
  },
  {
   "cell_type": "markdown",
   "metadata": {},
   "source": []
  }
 ],
 "metadata": {
  "kernelspec": {
   "display_name": "Python 3",
   "language": "python",
   "name": "python3"
  },
  "language_info": {
   "codemirror_mode": {
    "name": "ipython",
    "version": 3
   },
   "file_extension": ".py",
   "mimetype": "text/x-python",
   "name": "python",
   "nbconvert_exporter": "python",
   "pygments_lexer": "ipython3",
   "version": "3.6.1"
  }
 },
 "nbformat": 4,
 "nbformat_minor": 2
}
