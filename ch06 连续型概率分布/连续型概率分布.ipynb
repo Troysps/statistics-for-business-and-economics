{
 "cells": [
  {
   "cell_type": "markdown",
   "metadata": {},
   "source": [
    "# 连续型概率分布"
   ]
  },
  {
   "cell_type": "markdown",
   "metadata": {},
   "source": [
    "### 离散型随机变量和连续型随机变量最大的区别在于二者在概率计算上是不同的 对于离散型随机变量，概率函数$f(x)$给出了随机变量$x$取某个特定值的概率 而对于连续型随机变量 与概率函数相对应的是概率密度 也记作$f(x)$\n",
    "### 连续型随机变量，通过给定区间上曲线$f(x)$下的面积给出连续型随机变量在该区间取值的概率\n",
    "### 均匀概率分布 正态分布 指数分布"
   ]
  },
  {
   "cell_type": "markdown",
   "metadata": {},
   "source": [
    "## 均匀概率分布"
   ]
  },
  {
   "cell_type": "markdown",
   "metadata": {},
   "source": [
    "### 定义：一种连续型概率分布，随机变量在等长度的区间上取值的概率相同"
   ]
  },
  {
   "cell_type": "markdown",
   "metadata": {},
   "source": [
    "### 均匀概率密度函数：\n",
    "### $ f(x) = \\frac {1}{b-a},a \\leq x \\leq b $  或 $ f(x) = 0 ,其他$"
   ]
  },
  {
   "cell_type": "markdown",
   "metadata": {},
   "source": [
    "### 连续型均匀概率分布：\n",
    "### 数学期望为： $ E(x) = \\frac {(a+b)}{2} $\n",
    "### 方差为： $ Var(x) = \\frac {(b-a)^2}{12} $"
   ]
  },
  {
   "cell_type": "markdown",
   "metadata": {},
   "source": [
    "## 正态概率分布"
   ]
  },
  {
   "cell_type": "markdown",
   "metadata": {},
   "source": [
    "### 正态概率分布：是描述连续型随机变量的最重要的一种概率分布 其概率密度函数呈钟形 由均值$u$和标准差$\\sigma$确定"
   ]
  },
  {
   "cell_type": "markdown",
   "metadata": {},
   "source": [
    "### 正态概率密度函数：\n",
    "### $ f(x) = \\frac {1}{\\sqrt{2\\pi}\\sigma} e^{-(x-u)^2/2\\sigma^2} $\n",
    "### 其中：$u$为均值，$\\sigma$为标准差 $\\pi$为3.14159 $e$为2.71828"
   ]
  },
  {
   "cell_type": "markdown",
   "metadata": {},
   "source": [
    "### 正态分布特征\n",
    "#### （1） 正态分布族中的每个分布因均值$u$和标准差$\\sigma$这两个参数的不同而不同\n",
    "#### （2） 正态曲线的最高点在均值处达到，均值还是分布的中位数和众数\n",
    "#### （3） 分布的均值可以是任意数据：负数、零或正数\n",
    "#### （4） 正态分布永远是对称的\n",
    "#### （5） 标准差决定曲线的宽度和平坦程度\n",
    "#### （6） 正态随机变量的概率由正态曲线下的面积给出\n",
    "#### （7） 下面是随机变量在一些常用区间内取值的百分比\n",
    "#### a. 正态随机变量有68.3%的值在均值加减一个标准差的范围内\n",
    "#### b. 正态随机变量有95.4%的值在均值加减两个标准差的范围内\n",
    "#### c. 正态随机变量有99.7%的值在均值加减三个标准差的范围内"
   ]
  },
  {
   "cell_type": "markdown",
   "metadata": {},
   "source": [
    "### 标准正态概率分布\n",
    "#### 定义：随机变量服从均值0并且标准差为1的正态分布 则称该随机变量服从标准正态概率分布\n",
    "#### 标准正态密度函数： $f(z) = \\frac {1}{\\sqrt{2\\pi}} e^{-z^2/2} $"
   ]
  },
  {
   "cell_type": "markdown",
   "metadata": {},
   "source": [
    "### 正态分布数学用表$P(z\\leq1.0) = 0.8413$\n",
    "#### 计算三种类型的概率：（1）标准正态随机变量$z$小于或等于某个给定值的概率 （2）$z$在两个给定值之间的概率 （3）$z$大于或等于某个给定值的概率"
   ]
  },
  {
   "cell_type": "markdown",
   "metadata": {},
   "source": [
    "### 随机正态概率分布的概率：\n",
    "#### 转化为标准正态随机变量： $ z = \\frac {(x-u)}{\\sigma} $"
   ]
  },
  {
   "cell_type": "markdown",
   "metadata": {},
   "source": [
    "## 二项概率的近似分布\n",
    "### 连续性修正因子：当用连续性正态概率分布来近似离散型二项概率分布时  从$x$中加上或减去的值0.5\n",
    "#### 例如：发票出错10% 100次中 恰有12次出错的概率 $P(11.5 \\leq x \\leq 12.5)$"
   ]
  },
  {
   "cell_type": "markdown",
   "metadata": {},
   "source": [
    "## 指数概率分布\n",
    "### 作用：用于描述诸如到达某洗车处的两辆车的时间间隔 装载一辆卡车所需时间、告诉公路上两起重大事故发生地之间的距离等随机变量\n",
    "### 指数概率密度函数： $ f(x) = \\frac {1}{u}e^{-x/u}, x\\geq 0 $\n",
    "#### $u$为期望值"
   ]
  },
  {
   "cell_type": "markdown",
   "metadata": {},
   "source": [
    "### 指数分布：累积概率\n",
    "### $P(x\\geq x_0) = 1 - e^{-x_o/u}$"
   ]
  },
  {
   "cell_type": "markdown",
   "metadata": {},
   "source": [
    "## 泊松分布与指数分布的关系\n",
    "### 泊松分布：描述了每一区间中事件发生的次数\n",
    "### 指数分布：描述了事件发生的时间间隔长度"
   ]
  },
  {
   "cell_type": "code",
   "execution_count": null,
   "metadata": {
    "collapsed": true
   },
   "outputs": [],
   "source": []
  }
 ],
 "metadata": {
  "kernelspec": {
   "display_name": "Python 3",
   "language": "python",
   "name": "python3"
  },
  "language_info": {
   "codemirror_mode": {
    "name": "ipython",
    "version": 3
   },
   "file_extension": ".py",
   "mimetype": "text/x-python",
   "name": "python",
   "nbconvert_exporter": "python",
   "pygments_lexer": "ipython3",
   "version": "3.6.1"
  }
 },
 "nbformat": 4,
 "nbformat_minor": 2
}
