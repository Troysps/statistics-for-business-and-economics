{
 "cells": [
  {
   "cell_type": "markdown",
   "metadata": {},
   "source": [
    "# 总体方差的统计推断"
   ]
  },
  {
   "cell_type": "markdown",
   "metadata": {},
   "source": [
    "#### 前面4章主要介绍了 关于总体均值和总体比比率的统计推断方法 本章讨论关于总体方差的统计推断"
   ]
  },
  {
   "cell_type": "markdown",
   "metadata": {
    "collapsed": true
   },
   "source": [
    " ## 一个总体方差的统计推断"
   ]
  },
  {
   "cell_type": "markdown",
   "metadata": {},
   "source": [
    "### 样本方差：$ s^2 = \\frac {\\sum(x_i - \\bar x)^2}{n-1}$ 是总体方差$\\sigma$的点估计 在样本方差作为推断总体方差的基础时 $(n-1)s^2 / \\sigma^2$的抽样分布 是对于一个总体方差建立区间估计和进行假设检验的重要方法"
   ]
  },
  {
   "cell_type": "markdown",
   "metadata": {},
   "source": [
    "#### $(n-1)s^2/\\sigma^2$的抽样分布：\n",
    "#### 从正态总体中任意抽取一个容量为n的简单随机样本，则$\\chi^2 = \\frac{(n-1)s^2}{\\sigma^2}$的抽样分布服从自由度为$n-1$的$\\chi^2$分布"
   ]
  },
  {
   "cell_type": "markdown",
   "metadata": {},
   "source": [
    "### 区间估计--$\\chi^2$分布表"
   ]
  },
  {
   "cell_type": "markdown",
   "metadata": {},
   "source": [
    "#### 一个总体方差的区间估计：$\\frac{(n-1)s^2}{\\chi_{\\alpha/2}^2} \\le \\sigma^2 \\le \\frac{(n-1)s^2}{\\chi_{(1-\\alpha/2)}^2} $\n",
    "#### 统计检验量$\\chi^2$值是基于自由度为$n-1$的$\\chi^2$分布，$1-\\alpha$为置信系数"
   ]
  },
  {
   "cell_type": "markdown",
   "metadata": {},
   "source": [
    "### 假设检验"
   ]
  },
  {
   "cell_type": "markdown",
   "metadata": {},
   "source": [
    "### 一个总体方差假设检验的检验统计量：$\\chi^2 = \\frac{(n-1)s^2}{\\sigma_0^2}$"
   ]
  },
  {
   "cell_type": "markdown",
   "metadata": {},
   "source": [
    "## 两个总体方差的统计推断 ——$F$分布表"
   ]
  },
  {
   "cell_type": "markdown",
   "metadata": {},
   "source": [
    "### 当$\\sigma_1^2 = \\sigma_2^2$时， $s_1^2/s_2^2$的抽样分布：\n",
    "#### 当两个方差相等的正态总体中分别抽取容量为$n_1$和$n_2$的两个独立的简单随机样本则：\n",
    "#### $\\frac{s_1^2}{s_2^2}$     \n",
    "##### 的抽样分布服从份子自由度为$n_1-1$和分母自由度$n_2-1$的$F$分布。$s_1^2$为取自总体1的容量为$n_1$的随机样本的样本方差，$s_2^2$为取自总体2的容量为$n_2$的随机样本的样本方差"
   ]
  },
  {
   "cell_type": "markdown",
   "metadata": {},
   "source": [
    "### 总体方差$\\sigma_1^2 = \\sigma_2^2$的假设检验的检验统计量\n",
    "### $F = \\frac{s_1^2}{s_2^2}$\n",
    "#### 将样本方差较大的总体记为总体1，则检验统计量服从份子自由度为$n_1-1$，分母自由度为$n_2-1$的$F$分布"
   ]
  },
  {
   "cell_type": "code",
   "execution_count": null,
   "metadata": {
    "collapsed": true
   },
   "outputs": [],
   "source": []
  }
 ],
 "metadata": {
  "kernelspec": {
   "display_name": "Python 3",
   "language": "python",
   "name": "python3"
  },
  "language_info": {
   "codemirror_mode": {
    "name": "ipython",
    "version": 3
   },
   "file_extension": ".py",
   "mimetype": "text/x-python",
   "name": "python",
   "nbconvert_exporter": "python",
   "pygments_lexer": "ipython3",
   "version": "3.6.1"
  }
 },
 "nbformat": 4,
 "nbformat_minor": 2
}
