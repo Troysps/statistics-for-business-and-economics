{
 "cells": [
  {
   "cell_type": "markdown",
   "metadata": {},
   "source": [
    "# 假设检验\n",
    "#### 统计推断中如何利用假设检验来确定是否应拒绝关于总体参数数值的说法\n",
    "#### 在假设检验中 我们首先对总体参数做一个尝试性的假设 该尝试性的假设称为原假设 记作$H_0$\n",
    "#### 然后 定义另一个与原假设内容完全对立的假设 记作$H_a$ 称之为备择假设 \n",
    "### 假设检验的过程 就是根据样本数据 对这两个对立的假设$H_0$ $H_a$进行检验"
   ]
  },
  {
   "cell_type": "markdown",
   "metadata": {},
   "source": [
    "## 原假设和备择假设的建立\n"
   ]
  },
  {
   "cell_type": "markdown",
   "metadata": {},
   "source": [
    "### 将研究中的假设作为备择假设 目标立为备择假设 考察新方法是否更好\n",
    "### 将受到挑战的假说作为原假设 例如 至少为--可以作为原假设"
   ]
  },
  {
   "cell_type": "markdown",
   "metadata": {},
   "source": [
    "### 原假设和备择假设形式的小结\n",
    "#### 本章涉及两个总体参数：总体均值和总体比率\n",
    "#### 假设检验主要有三种形式：前两种为单侧检验 第三种为双侧检验\n",
    "#### 下侧检验$ 原假设 H_0: \\mu \\ge \\mu_0    备择假设H_{\\alpha}: \\mu \\leq \\mu_0$ \n",
    "#### 上侧检验$ 原假设 H_0: \\mu \\le \\mu_0    备择假设H_{\\alpha}: \\mu \\ge \\mu_0$ \n",
    "#### 双侧检验$ 原假设 H_0: \\mu = \\mu_0    备择假设H_{\\alpha}: \\mu != \\mu_0$ "
   ]
  },
  {
   "cell_type": "markdown",
   "metadata": {},
   "source": [
    "### 第一类错误和第二类错误 \n",
    "#### 第一类错误 $H_0$为真 拒绝$H_a$ 称为检验的显著性水平 $\\alpha$\n",
    "#### 第二类错误 $H_a$为真                       $\\beta$"
   ]
  },
  {
   "cell_type": "markdown",
   "metadata": {},
   "source": [
    "##  总体均值的检验：$\\sigma$已知情形"
   ]
  },
  {
   "cell_type": "markdown",
   "metadata": {},
   "source": [
    "### 检验统计量：一种统计量 他的值用于确定是否拒绝原假设"
   ]
  },
  {
   "cell_type": "markdown",
   "metadata": {},
   "source": [
    "### 总体均值假设检验的检验统计量：$\\sigma$已知的情形\n",
    "### $ z = \\frac {\\bar x - u_0} {\\sigma / \\sqrt n}$\n",
    "### $\\bar x$为样本均值 $u_0$为原假设均值 $\\sigma$为总体标准差 $n$样本数 $z$为检验统计量"
   ]
  },
  {
   "cell_type": "markdown",
   "metadata": {},
   "source": [
    "### $p-$值：$p-$值是一个概率值 度量样本所提供的证据对原假设的支持程度 $p-$值越小说明反对原假设的证据越多\n",
    "### $p-$值法的拒绝法则：如果$p-$值$\\le \\alpha$ 则拒绝$H_0$"
   ]
  },
  {
   "cell_type": "markdown",
   "metadata": {},
   "source": [
    "### 临界值法：临界值法要求我们首先确定被称为临界值的检验统计量的值 临界值是使得我们拒绝原假设的检验统计量的最大值 是对应与实际显著性水平$\\alpha$对应得$z$值"
   ]
  },
  {
   "cell_type": "markdown",
   "metadata": {},
   "source": [
    "### 下侧检验的拒绝法则：临界值法\n",
    "#### 如果$z \\ge -z_{\\alpha}$， 则拒绝$H_0$\n",
    "#### $-z_{\\alpha}$为临界值 即标准正态概率分布下侧的面积为$\\alpha$时对应的$z$值\n",
    "#### 同理，可以推导上侧检验 双侧检验"
   ]
  },
  {
   "cell_type": "markdown",
   "metadata": {},
   "source": [
    "### 总体均值的置信区间：\n",
    "#### 从总体中抽取一个简单随机样本 并利用样本均值$\\bar x$建立总体均值$\\mu$的置信区间\n",
    "#### 如果置信区间包含假设值$\\mu_0$ 则不能拒绝$H_0$ 否则 拒绝$H_{\\alpha}$\n",
    "#### $\\bar x \\pm z_{\\alpha/2} \\frac {\\sigma}{\\sqrt n}$"
   ]
  },
  {
   "cell_type": "markdown",
   "metadata": {},
   "source": [
    "## 总体均值的检验：$\\sigma$未知情形"
   ]
  },
  {
   "cell_type": "markdown",
   "metadata": {},
   "source": [
    "### 总体均值假设检验的检验统计量: $\\sigma$未知\n",
    "### $t = \\frac {\\bar x - u_0}{s / \\sqrt n}$"
   ]
  },
  {
   "cell_type": "markdown",
   "metadata": {},
   "source": [
    "## 总体比率"
   ]
  },
  {
   "cell_type": "markdown",
   "metadata": {},
   "source": [
    "### 总体比率假设检验的检验统计量：\n",
    "### $ z = \\frac {\\bar p - p_0}{\\sqrt{\\frac {p_0(1 - p_0)}{n}}}$"
   ]
  },
  {
   "cell_type": "markdown",
   "metadata": {},
   "source": [
    "## 总体均值单侧假设检验的样本容量\n",
    "### $ n = \\frac {(z_{\\alpha} + z_{beta})^2 \\sigma^2} {(u_0-u_{\\alpha})^2}$"
   ]
  },
  {
   "cell_type": "code",
   "execution_count": null,
   "metadata": {
    "collapsed": true
   },
   "outputs": [],
   "source": []
  }
 ],
 "metadata": {
  "kernelspec": {
   "display_name": "Python 3",
   "language": "python",
   "name": "python3"
  },
  "language_info": {
   "codemirror_mode": {
    "name": "ipython",
    "version": 3
   },
   "file_extension": ".py",
   "mimetype": "text/x-python",
   "name": "python",
   "nbconvert_exporter": "python",
   "pygments_lexer": "ipython3",
   "version": "3.6.1"
  }
 },
 "nbformat": 4,
 "nbformat_minor": 2
}
