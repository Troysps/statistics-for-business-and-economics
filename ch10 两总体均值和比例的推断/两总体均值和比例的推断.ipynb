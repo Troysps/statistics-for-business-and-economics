{
 "cells": [
  {
   "cell_type": "markdown",
   "metadata": {},
   "source": [
    "# 两总体均值和比例的推断"
   ]
  },
  {
   "cell_type": "markdown",
   "metadata": {},
   "source": [
    "#### ch08 ch09介绍了对一个总体的均值和比例如何进行区间估计以及假设检验\n",
    "#### 本章说明如何对两个总体进行区间估计和假设检验"
   ]
  },
  {
   "cell_type": "markdown",
   "metadata": {},
   "source": [
    "## 两总体均值之差的推断：$\\sigma_1$和$\\sigma_2$已知\n",
    "### 令$u_1$和$u_2$分别表示总体1和总体2的均值，本节介绍两均值之差：$u_1 - u_2$的统计推断\n",
    "### 独立简单随机样本：从总体1中抽取一个容量为$n_1$的简单随机样本，从总体2中抽取一个容量为$n_2$的简单随机样本 两个样本是相互独立抽取的\n",
    "### 假设两个总体的标准差$\\sigma_1$和$\\sigma_2$是已知的，如何计算误差范围以及计算两总体均值之间的区间估计"
   ]
  },
  {
   "cell_type": "markdown",
   "metadata": {},
   "source": [
    "### $u_1 - u_2$的区间估计"
   ]
  },
  {
   "cell_type": "markdown",
   "metadata": {},
   "source": [
    "#### 两个总体均值之差的点估计量 :   $\\bar x_1 - \\bar x_2$"
   ]
  },
  {
   "cell_type": "markdown",
   "metadata": {},
   "source": [
    "#### $\\bar x_1- \\bar x_2$的标准误差: $\\sigma_{\\bar x_1 - \\bar x_2} = \\sqrt {\\frac {\\sigma_1^2}{n_1}+\\frac{\\sigma_2^2}{n_2}}$"
   ]
  },
  {
   "cell_type": "markdown",
   "metadata": {},
   "source": [
    "#### 两总体均值之差的区间估计：$\\sigma_1$和$\\sigma_2$已知：$\\bar x_1 - \\bar x_2 \\pm z_{\\alpha/2}\\sqrt{\\frac {\\sigma_1^2}{n_1}+ \\frac {\\sigma_2^2}{n_2}}$"
   ]
  },
  {
   "cell_type": "markdown",
   "metadata": {},
   "source": [
    "### $u_1 -u_2$ 的假设检验\n",
    "#### 假设检验的三种形式：上侧检验 下侧检验 双侧检验\n",
    "#### 实用建议：给出的区间估计与假设检验的大部分应用，随机样本都满足$n_1\\ge30$及$n_2\\ge30$ 一旦其中之一的样本容量小于30 总体的分布就需要重点加以考虑\n",
    "#### 作用：考察两总体样本之间的差异"
   ]
  },
  {
   "cell_type": "markdown",
   "metadata": {},
   "source": [
    "#### $u_1 - u_2$的假设检验的检验统计量：$\\sigma_1$和$\\sigma_2$已知 $ z = \\frac{(\\bar x_1 - \\bar x_2)-D_0}{\\sqrt {\\frac {\\sigma_1^2}{n_1}+\\frac{\\sigma_2^2}{n_2}}}$"
   ]
  },
  {
   "cell_type": "markdown",
   "metadata": {},
   "source": [
    "## 两总体均值之差的推断：$\\sigma_1$和$\\sigma_2$未知\n",
    "### 对两总体标准差$\\sigma_1$和$\\sigma_2$未知的情形， 将使用样本标准差$s_1$和$s_2$来估计未知的总体标准差  \n",
    "### 使用样本标准差时，区间估计与假设检验的程序将会建立在$t$分布的基础上而非标准正态分布"
   ]
  },
  {
   "cell_type": "markdown",
   "metadata": {},
   "source": [
    "#### 两个总体均值之差的区间估计：$\\sigma_1$和$\\sigma_2$未知：$\\bar x_1 - \\bar x_2 \\pm t_{\\alpha/2}\\sqrt{\\frac{s_1^2}{n_1} + \\frac{s_2^2}{n_2}}$\n",
    "#### 用样本标准差$s_1$和$s_2$来估计$\\sigma_1$和$\\sigma_2$ 并用$t_{\\alpha/2}$来代替$z_{\\alpha/2}$  $t$分布"
   ]
  },
  {
   "cell_type": "markdown",
   "metadata": {},
   "source": [
    "#### 自由度：两个独立随机样本的$t$分布：$ df = \\frac {(\\frac {s_1^2}{n_1}+ \\frac {s_2^2}{n_2})^2}{\\frac {1}{n_1-1}(\\frac{s_1^2}{n_1})^2+ \\frac {1}{n_2-1}(\\frac{s_2^2}{n_2})^2}$"
   ]
  },
  {
   "cell_type": "markdown",
   "metadata": {},
   "source": [
    "### $u_1 - u_2$的假设检验\n",
    "\n",
    "#### $u_1-u_2$的假设检验的检验统计量：$\\sigma_1$和$\\sigma_2$未知： $ t = \\frac{(\\bar x_1 - \\bar x_2)-D_0}{\\sqrt {\\frac {s_1^2}{n_1}+\\frac{s_2^2}{n_2}}}$"
   ]
  },
  {
   "cell_type": "markdown",
   "metadata": {},
   "source": [
    "## 两总体均值之差的推断：匹配样本\n",
    "### 在选择用于搜集生产时间数据及检验假设的抽样方法时，考虑两种方案\n",
    "### 1. 独立样本设计：例子 抽取工人的一个简单随机样本 样本中每个工人使用生产方法1；抽取工人的另一个独立的简单随机样本 样本中每个工人使用生成方法2\n",
    "### 2. 匹配样本设计：抽取工人的简单随机样本 每个工人先用一种生产方法，然后使用另一种生产方法 \n",
    "#### 在匹配样本设计中，两种生产方法在相似条件下被检验 因此这一设计产生的抽样误差往往要比独立样本设计要小  主要因为在匹配样本设计中 两种生产方法被相同的工人使用 剔除了工人间的差异"
   ]
  },
  {
   "cell_type": "markdown",
   "metadata": {},
   "source": [
    "#### 匹配样本的样本均值 $\\bar d = \\frac {\\sum d_i}{n} $  $d_i$为方法1和方法2之差\n",
    "#### 匹配样本的标准差  $ s_d = \\sqrt {\\frac {\\sum(d_i - \\bar d)^2}{n-1}}$"
   ]
  },
  {
   "cell_type": "markdown",
   "metadata": {},
   "source": [
    "#### 匹配样本假设检验的检验统计量：$ t = \\frac{\\bar d - u_d}{s_d/\\sqrt n}$"
   ]
  },
  {
   "cell_type": "markdown",
   "metadata": {},
   "source": [
    "## 两总体比例之差的推断\n",
    "### 令$p_1$表示总体$1$的比例，$p_2$表示总体$2$的比例，讨论两总体比例之差$p_1 - p_2$的统计推断\n",
    "#### 为了对这个比例之差做出推断 选择两个独立的随机样本，这两个样本分别总体$1$的$n_1$个单位和总体$2$中$n_2$个单位组成"
   ]
  },
  {
   "cell_type": "markdown",
   "metadata": {},
   "source": [
    "### 两总体比例之差的点估计量：$\\bar p_1 - \\bar p_2$\n",
    "#### $\\bar p_1 - \\bar p_2$的标准误差：$\\sigma_{\\bar p_1 - \\bar p_2} = \\sqrt{\\frac {p_1(1-p_1)}{n_1} + \\frac{p_2(1-p_2)}{n_2}}$\n",
    "#### 如果样本容量足够大 使得$n_1p_1$, $n1(1-p_1)$，$n_2p_2$,$n_2(1-p_2)$都大于或等于5，则$\\bar p_1 - \\bar p_2$的抽样分布近似服从于正态分布"
   ]
  },
  {
   "cell_type": "markdown",
   "metadata": {},
   "source": [
    "#### 两总体比例之差的区间估计：$\\bar p_1 - \\bar p_2 \\pm z_{\\alpha/2}\\sqrt{\\frac {\\bar p_1(1-\\bar p_1)}{n_1}+\\frac{\\bar p_2(1-\\bar p_2)}{n_2}}$"
   ]
  },
  {
   "cell_type": "markdown",
   "metadata": {},
   "source": [
    "### $p_1 - p_2$的假设检验"
   ]
  },
  {
   "cell_type": "markdown",
   "metadata": {},
   "source": [
    "#### 当$p_1=p_2=p$时， $\\bar p_1 - \\bar p_2$的标准误差 ：$\\sigma_{\\bar p_1 - \\bar p_2} = \\sqrt{\\frac {p_1(1-p_1)}{n_1} + \\frac{p_2(1-p_2)}{n_2}} = \\sqrt{p(1-p)(\\frac{1}{n_1}+\\frac{1}{n_2}})$"
   ]
  },
  {
   "cell_type": "markdown",
   "metadata": {},
   "source": [
    "#### 当$p_1=p_2=p$时，$p$的合并估计量：$\\bar p =\\frac{ n_1\\bar p_1 + n_2\\bar p_2 }{n_1 + n_2}$"
   ]
  },
  {
   "cell_type": "markdown",
   "metadata": {},
   "source": [
    "#### $p_1-p_2$的假设检验的检验统计量：$ z = \\frac{\\bar p_1 - \\bar p_2}{\\sqrt{p(1-p)(\\frac{1}{n_1}+\\frac{1}{n_2}})}$"
   ]
  },
  {
   "cell_type": "code",
   "execution_count": null,
   "metadata": {
    "collapsed": true
   },
   "outputs": [],
   "source": []
  }
 ],
 "metadata": {
  "kernelspec": {
   "display_name": "Python 3",
   "language": "python",
   "name": "python3"
  },
  "language_info": {
   "codemirror_mode": {
    "name": "ipython",
    "version": 3
   },
   "file_extension": ".py",
   "mimetype": "text/x-python",
   "name": "python",
   "nbconvert_exporter": "python",
   "pygments_lexer": "ipython3",
   "version": "3.6.1"
  }
 },
 "nbformat": 4,
 "nbformat_minor": 2
}
