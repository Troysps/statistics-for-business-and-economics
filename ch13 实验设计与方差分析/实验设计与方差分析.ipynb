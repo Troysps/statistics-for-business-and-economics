{
 "cells": [
  {
   "cell_type": "markdown",
   "metadata": {},
   "source": [
    "# 实验设计与方差分析\n",
    "#### 统计研究分为实验性研究与观测性研究\n",
    "##### 实验性研究中：数据是通过实验产生的  首先要确定我们感兴趣的变量开始 然后确定并控制一个或多个其他变量 这些其他变量与我们感兴趣的变量是相关的   与此同时 收集这些变量是如何影响我们感兴趣的那一个变量的数据\n",
    "##### 观测性研究中：数据是通过抽样调查产生的 而不是控制一项实验来获取数据的\n",
    "#### 本章主要介绍三种类型的实验设计：完全随机化设计 随机化区组设计及析因实验\n",
    "#### 对于每一种实验设计，我们将说明，方差分析（ANOVA）的统计方法如何能用于现有数据的分析 同样也可使用ANOVA来分析通过观察性研究得到的数据"
   ]
  },
  {
   "cell_type": "markdown",
   "metadata": {},
   "source": [
    "#### 在第1部分，将介绍实验性研究的基本原理 并且将说明 如何将这些基本原理应用到完全随机化的设计中 第2部分中 将说明如何应用ANAVA来分析完全随机化实验设计的数据    在之后的几个部分  讨论多重比较方法和另外两个有广泛应用的实验设计：随机化区组设计和析因实验"
   ]
  },
  {
   "cell_type": "markdown",
   "metadata": {},
   "source": [
    "## 实验设计和方差分析简介"
   ]
  },
  {
   "cell_type": "markdown",
   "metadata": {},
   "source": [
    "##### 实验：Chemitech公司开发了一种新的城市供水过滤系统。新过滤系统的部件需要从几家供应商处购买，然后由Chemitech公司设在南加州哥伦比亚市的工厂配置这些部件。考虑了各种可能的装配方法后，工程部将范围缩小至A B C三种方法 公司希望确定：哪种装配方法能使每周生产的过滤系统的数量最多\n",
    "#### 因子：引起关注的自变量的另一个称谓\n",
    "#### 处理：因子的不同水平\n",
    "#### 单因子实验：只涉及有K个总体或处理的一个因子的实验\n",
    "#### 相应变量：引起关注的应变量的另一个称谓\n",
    "#### 实验单元：实验中引起关注的研究对象\n",
    "#### 完全随机化试验：处理被随机地指派给实验单元的一种实验设计\n"
   ]
  },
  {
   "cell_type": "markdown",
   "metadata": {},
   "source": [
    "#### 在上述实验中：\n",
    "#### 装配方法是独立变量（因子）\n",
    "#### 对应因子的三种装配方法是说这一实验有三个处理\n",
    "#### 因此该公司的问题是单因子实验：只涉及一个定性因子（装配方法）\n",
    "#### 三个处理确定了实验的三个总体：使用A方法的全体工人 B方法的全体工人 C方法的全体工人\n",
    "#### 对于每个总体，响应变量是：每周装配的过滤系统的数量\n",
    "#### 假设公司随机抽取了三名工人随机的指派实行一种装配方法\n",
    "#### 实验单元就是三名随机抽取的工人  有三个实验单元 随机指派处理给实验单元就是完全随机化设计\n",
    "#### 抽15个实验单元——>每种独立变量处理随机的指派给5个实验单位——>三个总体 n1=5 n2=5 n3=5"
   ]
  },
  {
   "cell_type": "markdown",
   "metadata": {},
   "source": [
    "### 数据收集"
   ]
  },
  {
   "cell_type": "markdown",
   "metadata": {},
   "source": [
    "#### 在实验内得到三个样本数据：\n",
    "##### $\\mu_1:使用装配方法A每周生产的过滤系统的数量$\n",
    "##### $\\mu_2:使用装配方法B每周生产的过滤系统的数量$\n",
    "##### $\\mu_3:使用装配方法C每周生产的过滤系统的数量$\n",
    "#### 问题在于：观察到这三个样本均值之间的差异是否足够大，以致于能够得出结论——对应于三种装配方法的总体均值是不同的\n",
    "#### 因此：试图使用样本均值来检验下面的假设\n",
    "#### $H_0:\\mu_1=\\mu_2=\\mu_3$\n",
    "#### $H_\\alpha:总体均值不全相等$\n",
    "#### 接下来：利用方差分析来确定三个样本值之间观察到的差异是否足够大可以拒绝$H_0$"
   ]
  },
  {
   "cell_type": "markdown",
   "metadata": {},
   "source": [
    "### 方差分析的假定\n",
    "#### 方差分析的假定需要三个假设：\n",
    "#### 1. 对于每个总体，响应变量服从正态分布，在该公司试验中，意味着每一种装配方法，每周生产的过滤系统的数量（响应变量）必须服从正态分布\n",
    "#### 2. 响应变量的方差，记作$\\sigma^2$，对所用总体都是相同的    在该公司试验中，意味着 对于每一种装配方法 每周生产的过滤系统数量的方差必须是相同的\n",
    "#### 3. 观测值必须是独立的   在该公司试验中，意味着 每一实验单位每周产生的响应变量必须与任何其他工人每周生产的过滤系统数量独立"
   ]
  },
  {
   "cell_type": "markdown",
   "metadata": {},
   "source": [
    "### 方差分析：概念性综述\n",
    "#### 如果三个总体均值相等，我们可以期望三个样本均值彼此之间很接近，事实上，三个样本均值相互越接近，推断总体均值不等的证据就越缺乏说服力。即：样本均值差异越大，我们推断总体均值不等的证据就越有说服力，换句话说，如果样本均值的变异性“小”，则支持$H_0$；如果样本均值的变异性“大”,则支持$H_\\alpha$"
   ]
  },
  {
   "cell_type": "markdown",
   "metadata": {},
   "source": [
    "#### 如果原假设$H_0:\\mu_1=\\mu_2=\\mu_3$为真，则可以利用样本均值之间的变异性（标准误差）建立$\\sigma^2$的一个估计\n",
    "#### 原理：来自正态总体的容量为$n$的一个简单随机样本的样本均值$\\bar x$的抽样分布仍然服从正态分布   其均值为$\\mu$ （标准误差）方差为$\\sigma^2/n$"
   ]
  },
  {
   "cell_type": "markdown",
   "metadata": {},
   "source": [
    "##### 数据：三个样本均值分别为$\\bar x_1=62, \\bar x_2=66, \\bar x=52$\n",
    "##### 在该公司实验中，当样本容量相等时，$\\bar x$的抽样分布的均值的最佳估计是三个样本均值的均值或算术平均数：即——该实验中，$\\bar x$抽样分布的均值的一个估计值是$(62+66+52)/3=60$, 该股机制为总样本均值\n",
    "##### $\\bar x$的抽样分布的（标准误差）方差$\\sigma_{\\bar x}^2$的估计可以由三个样本均值的方差得出：\n",
    "##### $s_{\\bar x}^2 = \\frac{(62-60)^2+(66-60)^2+(52-60)^2}{3-1}=52$\n",
    "##### 由公式$\\sigma_{\\bar x}^2 = \\sigma^2/n$得：\n",
    "##### $\\sigma^2的估计值（处理间估计）=n\\times (\\sigma_{bar x}^2的估计量)=ns_{\\bar x}^2=5\\times 52=260$"
   ]
  },
  {
   "cell_type": "markdown",
   "metadata": {},
   "source": [
    "#### $\\sigma^2$的处理间估计的根据是：原假设为真，这种情形下，每个样本都来自同一总体，并且$\\bar x$只有一个抽样分布\n",
    "#### $\\sigma^2$的处理内估计的根据是：每个样本的内部变异也会对我们得到的方差分析的结论产生影响。当我们从每个总体中抽取一个随机样本时，每个样本方差都给出了$\\sigma^2$的的一个无偏估计。将$\\sigma^2$的个别估计组合或合并成一个总的估计，用这种方法得到的$\\sigma^2$的估计称为$\\sigma^2$的合并估计或处理内估计"
   ]
  },
  {
   "cell_type": "markdown",
   "metadata": {},
   "source": [
    "##### $\\sigma^2的处理内估计=\\frac{27.5+26.5+31}{3}=28.33$"
   ]
  },
  {
   "cell_type": "markdown",
   "metadata": {},
   "source": [
    "#### 当原假设为真，处理间估计方法才是总体方差$\\sigma^2$的一个好的估计量；当原假设为假时，处理间估计方法将高估总体方差。这两种情形下，处理内估计都是总体方差的一个好的估计量。因此：原假设为真时，两个估计量应该很接近，比值接近1；如果原假设为假，则处理间估计将大于处理内估计，比值也将是大的\n",
    "#### 总的来说：ANOVA背后的逻辑是以共同方差$\\sigma^2$的两个独立的估计量为基础，一个是以样本均值之间的变异性为依据，另一个估计量是以每个样本内部的变异性为依据，通过比较这两个估计量，就能确定总体均值是否相等"
   ]
  },
  {
   "cell_type": "markdown",
   "metadata": {
    "collapsed": true
   },
   "source": [
    "## 方差分析和完全随机化实验设计\n",
    "#### 本节中，将说明 对于一个完全随机化实验设计 如何应用方差分析来检验$k$个总体均值是否相等的问题 被检验的假设的一般形式为:\n",
    "#### $H_0: \\mu_1 = \\mu_2 = ... = \\mu_k$\n",
    "#### $H_\\alpha: k个总体的均值不全相等$\n",
    "##### 式中，$\\mu_j$代表的是第$j$个总体的均值"
   ]
  },
  {
   "cell_type": "markdown",
   "metadata": {},
   "source": [
    "#### 假定从$k$个总体或处理中的每一个抽取一个容量为$n_j$的简单随机样本 对于得到的样本数据 令$x_ij$代表的第$j$个处理的第$i$个观测值  $n-j$代表第$j$个处理的观测值个数 $\\bar x_j$代表的$j$个处理的样本均值  $s_j^2$代表第$j$个处理的样本方差  $s_j$代表第$j$个处理的样本标准差"
   ]
  },
  {
   "cell_type": "markdown",
   "metadata": {},
   "source": [
    "#### 第$j$个处理的样本均值与样本方差的计算公式：\n",
    "###  $\\bar x_j = \\frac{\\sum\\limits_{n=1}^{n_j} x_{ij}}{n_j}$"
   ]
  },
  {
   "cell_type": "markdown",
   "metadata": {},
   "source": [
    "#### 总样本均值 记为$\\bar{\\bar x}$ 等于所有观测值之和除以观测值的总个数\n",
    "### $\\bar{\\bar x} = \\frac{\\sum_{j=1}^{k} \\sum_{n=1}^{n_j} x_{ij}}{n_T}$\n",
    "#### 式中 $n_T=n_1+n_2+ ... + n_k$\n",
    "#### 若每个样本的容量是相等的 都为$n$ 则$n_T=kn$ 在这种情形下 简化为\n",
    "### $\\bar {\\bar x} = \\frac{\\sum\\limits_{j=1}^k \\bar x_j}{k}$"
   ]
  },
  {
   "cell_type": "markdown",
   "metadata": {},
   "source": [
    "### 总体方差的处理间估计\n",
    "#### 总体方差的处理间估计原理：原假设为真，在这种情形下，每个样本都来自同一个总体，并$\\bar x$只有一个抽样分布\n",
    "#### $\\sigma^2$的这个估计量为均方处理（mean square due to treatments, MSTR)\n",
    "#### 均方处理： $MSTR = \\frac{\\sum\\limits_{j=1}^{k} n_j (\\bar x_j - \\bar {\\bar x})^2}{k-1}$"
   ]
  },
  {
   "cell_type": "markdown",
   "metadata": {
    "collapsed": true
   },
   "source": [
    " #### 处理平方和：（sum of squares due to treatments, SSTR)\n",
    " #### 处理平方和：$ SSTR = \\sum\\limits_{j=1}^k n_j(\\bar x_j - \\bar {\\bar x})^2 $"
   ]
  },
  {
   "cell_type": "markdown",
   "metadata": {},
   "source": [
    "#### 上述试验中 $ SSTR = 5 \\times (62-60)^2 + 5 \\times (66-60)^2 + 5 \\times (52-60)^2 = 520$\n",
    "#### $ MSTR = \\frac{SSTR}{K-1} = \\frac{520}{2} = 260 $"
   ]
  },
  {
   "cell_type": "markdown",
   "metadata": {},
   "source": [
    "### 总体方差的处理间估计"
   ]
  },
  {
   "cell_type": "markdown",
   "metadata": {},
   "source": [
    "#### 总体方差的处理间估计原理：每个样本的内部变异也会对我们得到的方差分析的结论产生影响。当我们从每个总体中抽取一个随机样本时，每个样本方差都给出了$\\sigma^2$的的一个无偏估计。将$\\sigma^2$的个别估计组合或合并成一个总的估计，用这种方法得到的$\\sigma^2$的估计称为$\\sigma^2$的合并估计或处理内估计"
   ]
  },
  {
   "cell_type": "markdown",
   "metadata": {},
   "source": [
    "#### 误差平方和 (sum of squares due to error)\n",
    "#### 误差平方和：$SSE = \\sum\\limits_{j=1}^k (n_j - 1) s_j^2$\n",
    "#### 均方误差（mean square due to error)\n",
    "#### 均方误差：$MSE = \\frac{\\sum\\limits_{j=1}^k (n_j - 1) s_j^2}{n_T-k}$"
   ]
  },
  {
   "cell_type": "markdown",
   "metadata": {},
   "source": [
    "#### 上述试验中 $ SSE = (5-1)\\times 27.5 + (5-1) \\times 26.5 + (5-1)\\times 31 = 340$\n",
    "#### $MSE = \\frac{340}{15-3} = 28.33$"
   ]
  },
  {
   "cell_type": "markdown",
   "metadata": {},
   "source": [
    "### 方差估计量的比较：$F$检验"
   ]
  },
  {
   "cell_type": "markdown",
   "metadata": {},
   "source": [
    "#### k个总体均值相等的检验\n",
    "#### $H_0: \\mu_1 = \\mu_2 = ... = \\mu_k$\n",
    "#### 检验统计量：\n",
    "#### $ F = \\frac{MSTR}{MSE}$\n",
    "#### 拒绝法则：\n",
    "#### p-值法：如果$p-值 \\le \\alpha,则拒绝H_0$\n",
    "#### 临界值法：如果$F \\ge F_alpha$,则拒绝$H_0$\n",
    "#### 式中， $F_alpha$是分子自由度为$k-1$, 分母自由度为$n_T-k$时， 使$F$分布的上侧曲线下方面积为$\\alpha的F值$"
   ]
  },
  {
   "cell_type": "markdown",
   "metadata": {},
   "source": [
    "### $ANOVA表$"
   ]
  },
  {
   "attachments": {
    "image.png": {
     "image/png": "[encoded data removed]"
    }
   },
   "cell_type": "markdown",
   "metadata": {},
   "source": [
    "![image.png](attachment:image.png)"
   ]
  },
  {
   "cell_type": "markdown",
   "metadata": {},
   "source": [
    "### $ANOVA表$可以用于观测性研究，也可以用于实验性研究"
   ]
  },
  {
   "cell_type": "markdown",
   "metadata": {},
   "source": [
    "## 多重比较方法"
   ]
  },
  {
   "cell_type": "markdown",
   "metadata": {},
   "source": [
    "#### 当我们应用方差分析方法检验$k$个总体均值是否相等时 拒绝原假设只能让我们得出$k$个总体的均值不全相等的结论\n",
    "#### 使用多重比较方法 确定$k$个均值中间到底哪几个均值之间存在差异 在成对的总体均值之间进行比较"
   ]
  },
  {
   "cell_type": "markdown",
   "metadata": {},
   "source": [
    "### $Fisher$的$LSD$方法"
   ]
  },
  {
   "cell_type": "markdown",
   "metadata": {},
   "source": [
    "#### 基于检验统计量$\\bar x_i - \\bar x_j$的$Fisher$的$LSD$方法\n",
    "#### $H_0: \\mu_i = \\mu_j$\n",
    "#### $H_\\alpha: \\mu_i \\neq \\mu_j$\n",
    "####  检验统计量： $\\bar x_i - \\bar x_j$\n",
    "#### 显著性水平$\\alpha$下的拒绝法则\n",
    "#### $如果|\\bar x_i - \\bar x_j| \\ge LSD, 则拒绝H_0$\n",
    "#### 式中：\n",
    "#### $LSD = t_\\alpha/2 \\sqrt{MSE(\\frac{1}{n_i}+\\frac{1}{n_j}}$"
   ]
  },
  {
   "cell_type": "markdown",
   "metadata": {},
   "source": [
    "#### $应用Fisher的LSD方法的两个总体均值之差的置信区间估计$\n",
    "#### $\\bar x_i - \\bar x_j \\pm LSD$\n",
    "#### $ 其中, t_\\alpha是自由度为n_T-k时，使t分布的上侧面积为\\alpha/2的t值$"
   ]
  },
  {
   "cell_type": "code",
   "execution_count": null,
   "metadata": {
    "collapsed": true
   },
   "outputs": [],
   "source": []
  }
 ],
 "metadata": {
  "kernelspec": {
   "display_name": "Python 3",
   "language": "python",
   "name": "python3"
  },
  "language_info": {
   "codemirror_mode": {
    "name": "ipython",
    "version": 3
   },
   "file_extension": ".py",
   "mimetype": "text/x-python",
   "name": "python",
   "nbconvert_exporter": "python",
   "pygments_lexer": "ipython3",
   "version": "3.6.1"
  }
 },
 "nbformat": 4,
 "nbformat_minor": 2
}
