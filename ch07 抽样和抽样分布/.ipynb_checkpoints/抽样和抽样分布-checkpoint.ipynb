{
 "cells": [
  {
   "cell_type": "markdown",
   "metadata": {},
   "source": [
    "# 抽样和抽样分布"
   ]
  },
  {
   "cell_type": "markdown",
   "metadata": {},
   "source": [
    "#### 抽取样本的总体叫做抽样总体\n",
    "#### 抽样框是用于抽选样本的个体清单"
   ]
  },
  {
   "cell_type": "markdown",
   "metadata": {},
   "source": [
    "## 抽样\n",
    "### 从有限总体抽样 从无限总体抽样"
   ]
  },
  {
   "cell_type": "markdown",
   "metadata": {},
   "source": [
    "### 从有限总体抽样\n",
    "#### 简单随机样本（有限总体）：从容量为$N$的有限总体中抽取一个容量为$n$的样本 如果容量为$n$的每一个可能的样本都以相等的概率被抽出，则称该样本为简单随机样本\n",
    "#### 无放回抽样：一个个体一旦被选入样本，就从总体中剔除，不能再次被选入样本\n",
    "#### 有放回抽样：一个个体被选入样本后仍然放回总体中 先前被抽到的个体可能再次被选入样本 从而在样本中多次出现"
   ]
  },
  {
   "cell_type": "markdown",
   "metadata": {},
   "source": [
    "### 从无限总体中的抽样\n",
    "#### 随机样本（无限总体）：1. 抽取的每个个体来自同一总体 2. 每个个体的抽取是独立的"
   ]
  },
  {
   "cell_type": "markdown",
   "metadata": {},
   "source": [
    "## 点估计"
   ]
  },
  {
   "cell_type": "markdown",
   "metadata": {},
   "source": [
    "### 样本总计量：一种样本特征，如样本均值$\\bar x$、样本标准差$s$、样本比率$\\bar p$   样本统计量的值用于估计相应总体参数\n",
    "### 点估计量：提供总体参数点估计的样本统计量 如$\\bar x$、$s$或$\\bar p$\n",
    "### 点估计值：点估计量的值，在一个特定的实例中用来作为总体参数的估计值\n",
    "### 目标总体：进行统计推断的总体 目标总体应该是与相应的抽样总体尽可能多的相似"
   ]
  },
  {
   "cell_type": "markdown",
   "metadata": {},
   "source": [
    "## 抽样分布简介"
   ]
  },
  {
   "cell_type": "markdown",
   "metadata": {},
   "source": [
    "### 抽样分布：一个样本统计量所可能值构成的概率分布 在不同的简单随机样本中 $\\bar x$的取值也有各种各样的可能的结果，称$\\bar x$的概率分布为$\\bar x$的抽样分布"
   ]
  },
  {
   "cell_type": "markdown",
   "metadata": {},
   "source": [
    "### $\\bar x$的数学期望： $E(x) = u$\n",
    "#### $E(x)$为$\\bar x$的数学期望，$u$为总体均值"
   ]
  },
  {
   "cell_type": "markdown",
   "metadata": {},
   "source": [
    "### $\\bar x$的标准差：$\\sigma_{\\bar x}$为均值的标准误差"
   ]
  },
  {
   "cell_type": "markdown",
   "metadata": {},
   "source": [
    "### 有限总体：\n",
    "### $\\sigma_{\\bar x} = \\sqrt{\\frac {N-n}{N-1}}(\\frac{\\sigma}{\\sqrt n})$\n",
    "### 无限总体：\n",
    "### $\\sigma_{\\bar x} = \\frac{\\sigma}{\\sqrt n}$\n",
    "### 无限总体条件：（1）总体是无限的 （2）总体是有限的 但样本容量不大于总体容量的5% 即$\\frac{n}{N} \\le 0.05$"
   ]
  },
  {
   "cell_type": "markdown",
   "metadata": {},
   "source": [
    "### $\\bar x$的抽样分布的形式\n",
    "#### 总体服从正态分布\n",
    "#### 总体不服从正态分布：中心极限定理——从总体中抽取容量为$n$的简单随机样本 当样本容量很大时 样本均值$\\bar x$的抽样分布近似服从正态概率分布"
   ]
  },
  {
   "cell_type": "markdown",
   "metadata": {},
   "source": [
    "## $\\bar p$的抽样分布"
   ]
  },
  {
   "cell_type": "markdown",
   "metadata": {},
   "source": [
    "### 样本比率$\\bar p$是总体比率$p$的点估计 样本比率的计算公式为 $\\bar p = \\frac {x}{n}$\n",
    "### $\\bar p$的抽样分布：$\\bar p$的抽样分布是样本比率$\\bar p$的所有可能值得概率分布"
   ]
  },
  {
   "cell_type": "markdown",
   "metadata": {},
   "source": [
    "### $\\bar p$的数学期望\n",
    "### $\\bar p$的数学期望是$\\bar p$的所有可能值的均值，与总体比率$p$相等\n",
    "$E(\\bar p) = p$"
   ]
  },
  {
   "cell_type": "markdown",
   "metadata": {},
   "source": [
    "### $\\bar p$的标准差\n",
    "#### 有限总体\n",
    "$\\sigma_{\\bar p} = \\sqrt{\\frac {N-n}{N-1}}\\sqrt{\\frac {p(1-p)}{n}}$\n",
    "#### 无限总体\n",
    "$\\sigma_{\\bar p} = \\sqrt{\\frac {p(1-p)}{n}}$"
   ]
  },
  {
   "cell_type": "code",
   "execution_count": null,
   "metadata": {
    "collapsed": true
   },
   "outputs": [],
   "source": []
  }
 ],
 "metadata": {
  "kernelspec": {
   "display_name": "Python 3",
   "language": "python",
   "name": "python3"
  },
  "language_info": {
   "codemirror_mode": {
    "name": "ipython",
    "version": 3
   },
   "file_extension": ".py",
   "mimetype": "text/x-python",
   "name": "python",
   "nbconvert_exporter": "python",
   "pygments_lexer": "ipython3",
   "version": "3.6.1"
  }
 },
 "nbformat": 4,
 "nbformat_minor": 2
}
