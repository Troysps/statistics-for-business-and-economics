{
 "cells": [
  {
   "cell_type": "markdown",
   "metadata": {},
   "source": [
    "# 概率\n",
    "## 概率是对某一特定事件发生的可能性的数值度量"
   ]
  },
  {
   "cell_type": "markdown",
   "metadata": {},
   "source": [
    "## 4.1 试验、计数法则和概率分配"
   ]
  },
  {
   "cell_type": "markdown",
   "metadata": {},
   "source": [
    "### 试验：可以产生明确结果的过程定义为试验\n",
    "### 样本空间：试验的样本空间是试验所用可能组成的一个集合"
   ]
  },
  {
   "cell_type": "markdown",
   "metadata": {},
   "source": [
    "### 4.1.1 计数法则、组合和排序"
   ]
  },
  {
   "cell_type": "markdown",
   "metadata": {},
   "source": [
    "### 三种技术法则："
   ]
  },
  {
   "cell_type": "markdown",
   "metadata": {},
   "source": [
    "### 多步骤试验的技术法则：如果一个试验可以分为循序的k个步骤，在第一步中有$n_1$个试验结果， 第2步中有$n_2$个试验结果 以此类推 那么所有可能的试验结果的总数为$ n_1\\times n_2\\times...\\times n_k$\n",
    "### 典型案例：树形图"
   ]
  },
  {
   "cell_type": "markdown",
   "metadata": {},
   "source": [
    "### 组合计数法则：从N项中任取n项的组合数为 $ C_n^N = \\frac {N!}{n!(N-n)!}$\n",
    "#### 考虑结果的一致 不考虑选取的顺序 唯一"
   ]
  },
  {
   "cell_type": "markdown",
   "metadata": {},
   "source": [
    "### 排列计数法则：从N项中任取n项的排列数 $ P_n^N = \\frac {N!}{(N-n)!}$"
   ]
  },
  {
   "cell_type": "markdown",
   "metadata": {},
   "source": [
    "### 4.1.2 概率分配"
   ]
  },
  {
   "cell_type": "markdown",
   "metadata": {},
   "source": [
    "### 概率分配的基本条件：\n",
    "#### 1. 分配给每个试验结果的概率值都必须在0和1之间\n",
    "#### 2. 所有试验结果的概率之和必须为1"
   ]
  },
  {
   "cell_type": "markdown",
   "metadata": {},
   "source": [
    "### 古典法：当各种试验结果是等概率发生时，适合采用古典法进行概率分配\n",
    "### 相对频数法：适用于大量重复进行 并且能够取得试验结果发生比率的数据\n",
    "### 主观法：当不能假定试验结果是等可能发生的时候 可以采用主观法为试验结果分配概率"
   ]
  },
  {
   "cell_type": "markdown",
   "metadata": {},
   "source": [
    "## 4.2 事件及其概率\n",
    "### 样本点和事件是研究概率论的基础\n",
    "### 事件：事件是样本点的一个集合\n",
    "### 事件的概率：事件的概率等于事件中所有样本点的概率之和"
   ]
  },
  {
   "cell_type": "markdown",
   "metadata": {},
   "source": [
    "## 4.3 概率的基本性质"
   ]
  },
  {
   "cell_type": "markdown",
   "metadata": {},
   "source": [
    "### 4.3.1 事件的补"
   ]
  },
  {
   "cell_type": "markdown",
   "metadata": {},
   "source": [
    "### 事件A的补 定义为：所有不包含在事件A中的样本点\n",
    "### $ P(A) + P(A^c) = 1 $"
   ]
  },
  {
   "cell_type": "markdown",
   "metadata": {},
   "source": [
    "### 4.3.2 加法公式"
   ]
  },
  {
   "cell_type": "markdown",
   "metadata": {},
   "source": [
    "### 两个事件的并：A和B的并是所有的属于A或B或同时属于二者的样本点构成的事件 记作 $ A \\cup B $"
   ]
  },
  {
   "cell_type": "markdown",
   "metadata": {},
   "source": [
    "### 两个事件的交：给定两个事件A和B 则A和B的交是同时属于A和B的样本点构成的事件 记作 $ A \\cap B $"
   ]
  },
  {
   "cell_type": "markdown",
   "metadata": {},
   "source": [
    "### 加法公式： $ P(A \\cup B) = P(A) + P(B) - P(A \\cap B)$"
   ]
  },
  {
   "cell_type": "markdown",
   "metadata": {},
   "source": [
    "### 互斥事件：如果两个事件没有公共的样本点 则称这两个事件互斥"
   ]
  },
  {
   "cell_type": "markdown",
   "metadata": {},
   "source": [
    "### 互斥事件的加法公式： $ P(A \\cup B) = P(A) + P(B) $"
   ]
  },
  {
   "cell_type": "markdown",
   "metadata": {},
   "source": [
    "## 4.4 条件概率"
   ]
  },
  {
   "cell_type": "markdown",
   "metadata": {},
   "source": [
    "### 假设事件A发生的概率为$P(A)$，如果获得了新的信息--确知另一个事件B已经发生 我们希望利用这一新的信息来重新计算事件A发生的可能性。\n",
    "### 此时， 事件A发生的可能性叫做条件概率 记作$P(A \\mid B)$,读作”事件B发生的条件下事件A发生的概率“"
   ]
  },
  {
   "cell_type": "markdown",
   "metadata": {},
   "source": [
    "### 条件概率：   $ P(A \\mid B) = \\frac {P(A \\cap B)}{P(B)} $  或  $ P(B \\mid A) = \\frac {P(A \\cap B)}{P(A)} $\n",
    "### 相应事件：事件A发生的概率受到事件B发生与否的影响"
   ]
  },
  {
   "cell_type": "markdown",
   "metadata": {},
   "source": [
    "### 4.4.1 独立事件"
   ]
  },
  {
   "cell_type": "markdown",
   "metadata": {},
   "source": [
    "### 两个事件A和B是相互独立的， $ P(A \\mid B) = P(A) $ 或  $ P(B \\mid A) = P(B) $"
   ]
  },
  {
   "cell_type": "markdown",
   "metadata": {},
   "source": [
    "### 4.4.2 乘法公式"
   ]
  },
  {
   "cell_type": "markdown",
   "metadata": {},
   "source": [
    "### $ P(A \\cap B) = \\frac {P(B)} {P(A \\mid B)} $ 或者 $ P(A \\cap B) = \\frac {P(A)} {P(B \\mid A)}$"
   ]
  },
  {
   "cell_type": "markdown",
   "metadata": {},
   "source": [
    "### 独立事件的乘法公式： $ P( A \\cap B) = P(A)P(B) $"
   ]
  },
  {
   "cell_type": "markdown",
   "metadata": {},
   "source": [
    "## 4.5 贝叶斯定理"
   ]
  },
  {
   "cell_type": "markdown",
   "metadata": {},
   "source": [
    "### 通常，在开始分析时 总是对所关心的特定事件估计一个初始（先验概率）。然后，当我们从样本、专项报告或产品检验中获取了有关该事件新的信息，就能根据这些新增信息计算修正概率对先验概率进行更新，得到后验概率，应用贝叶斯定理 可以计算出后验概率"
   ]
  },
  {
   "cell_type": "markdown",
   "metadata": {},
   "source": [
    "### 贝叶斯定理：\n",
    "$ P(A_i \\mid B) = \\frac {P(A_i)P(B \\mid A_i)}{P(A_1)P(B \\mid A_1) + P(A_2)P(B \\mid A_2) + ... P(A_n)P(B \\mid A_n)} $"
   ]
  },
  {
   "cell_type": "code",
   "execution_count": null,
   "metadata": {
    "collapsed": true
   },
   "outputs": [],
   "source": []
  }
 ],
 "metadata": {
  "kernelspec": {
   "display_name": "Python 3",
   "language": "python",
   "name": "python3"
  },
  "language_info": {
   "codemirror_mode": {
    "name": "ipython",
    "version": 3
   },
   "file_extension": ".py",
   "mimetype": "text/x-python",
   "name": "python",
   "nbconvert_exporter": "python",
   "pygments_lexer": "ipython3",
   "version": "3.6.1"
  }
 },
 "nbformat": 4,
 "nbformat_minor": 2
}
