{
 "cells": [
  {
   "cell_type": "markdown",
   "metadata": {},
   "source": [
    "# 区间估计\n",
    "#### 点估计量是用于估计总体参数的样本统计量 不可能是总体参数的精确值 所以经常在点估计上加减边际误差的值来计算区间估计      点估计$\\pm$边际误差"
   ]
  },
  {
   "cell_type": "markdown",
   "metadata": {},
   "source": [
    "## 总体均值的区间估计：$\\sigma$ 已知情形"
   ]
  },
  {
   "cell_type": "markdown",
   "metadata": {},
   "source": [
    "#### 对总体均值进行区间估计 必须利用总体标准差$\\sigma$或样本标准差$s$计算边际误差"
   ]
  },
  {
   "cell_type": "markdown",
   "metadata": {},
   "source": [
    "### 总体均值的区间估计：$\\sigma$已知\n",
    "### $\\bar x \\pm z_{\\alpha/2}\\frac{\\sigma}{\\sqrt n}$\n",
    "### 其中，$ 1-\\alpha$为置信系数 $z_{\\alpha/2}$表示标准正态概率分布上侧面积为$\\alpha/2$时的$z$值"
   ]
  },
  {
   "cell_type": "markdown",
   "metadata": {},
   "source": [
    "## 总体均值的区间估计：$\\sigma$未知情形\n",
    "### 当利用$s$估计$\\sigma$时 边际误差和总体均值额区间估计都是以$t$分布的概率分布为依据进行的"
   ]
  },
  {
   "cell_type": "markdown",
   "metadata": {},
   "source": [
    "### 总体均值的区间： t表格\n",
    "### $\\bar x \\pm t_{\\alpha/2}\\frac{\\sigma}{\\sqrt n}$\n",
    "### $s$为样本标准差 $1-\\alpha$为置信系数 自由度为$n-1$的$t$分布中 $t_{\\alpha/2}$上侧面积恰好等于$\\alpha/2$"
   ]
  },
  {
   "cell_type": "markdown",
   "metadata": {},
   "source": [
    "### 样本容量的确定 总体均值区间估计 $\\sigma$已知\n",
    "### $E = z_{\\alpha/2}\\frac{\\sigma}{\\sqrt n}$\n",
    "### $n = \\frac{(z_{\\alpha/2})^2 \\times \\sigma^2}{E^2}$"
   ]
  },
  {
   "cell_type": "markdown",
   "metadata": {},
   "source": [
    "## 总体比率的区间估计：\n",
    "### $ \\bar p \\pm z_{\\alpha/2}\\sqrt{\\frac{\\bar p(1-\\bar p)}{n}}$"
   ]
  },
  {
   "cell_type": "code",
   "execution_count": null,
   "metadata": {
    "collapsed": true
   },
   "outputs": [],
   "source": []
  }
 ],
 "metadata": {
  "kernelspec": {
   "display_name": "Python 3",
   "language": "python",
   "name": "python3"
  },
  "language_info": {
   "codemirror_mode": {
    "name": "ipython",
    "version": 3
   },
   "file_extension": ".py",
   "mimetype": "text/x-python",
   "name": "python",
   "nbconvert_exporter": "python",
   "pygments_lexer": "ipython3",
   "version": "3.6.1"
  }
 },
 "nbformat": 4,
 "nbformat_minor": 2
}
